{
  "nbformat": 4,
  "nbformat_minor": 0,
  "metadata": {
    "colab": {
      "name": "Check Preocessing Amt.ipynb",
      "version": "0.3.2",
      "provenance": [],
      "collapsed_sections": [],
      "include_colab_link": true
    },
    "kernelspec": {
      "name": "python3",
      "display_name": "Python 3"
    }
  },
  "cells": [
    {
      "cell_type": "markdown",
      "metadata": {
        "id": "view-in-github",
        "colab_type": "text"
      },
      "source": [
        "<a href=\"https://colab.research.google.com/github/nisargbm/ACPS/blob/master/Check_Preocessing_Amt_Removing_Slash.ipynb\" target=\"_parent\"><img src=\"https://colab.research.google.com/assets/colab-badge.svg\" alt=\"Open In Colab\"/></a>"
      ]
    },
    {
      "cell_type": "code",
      "metadata": {
        "id": "xRMErw5s485a",
        "colab_type": "code",
        "outputId": "83a726ca-cf33-43c1-c7b1-4afe230d3c21",
        "colab": {
          "base_uri": "https://localhost:8080/",
          "height": 122
        }
      },
      "source": [
        "from google.colab import drive\n",
        "drive.mount('/content/drive')"
      ],
      "execution_count": 0,
      "outputs": [
        {
          "output_type": "stream",
          "text": [
            "Go to this URL in a browser: https://accounts.google.com/o/oauth2/auth?client_id=947318989803-6bn6qk8qdgf4n4g3pfee6491hc0brc4i.apps.googleusercontent.com&redirect_uri=urn%3Aietf%3Awg%3Aoauth%3A2.0%3Aoob&scope=email%20https%3A%2F%2Fwww.googleapis.com%2Fauth%2Fdocs.test%20https%3A%2F%2Fwww.googleapis.com%2Fauth%2Fdrive%20https%3A%2F%2Fwww.googleapis.com%2Fauth%2Fdrive.photos.readonly%20https%3A%2F%2Fwww.googleapis.com%2Fauth%2Fpeopleapi.readonly&response_type=code\n",
            "\n",
            "Enter your authorization code:\n",
            "··········\n",
            "Mounted at /content/drive\n"
          ],
          "name": "stdout"
        }
      ]
    },
    {
      "cell_type": "code",
      "metadata": {
        "id": "lKp9cT605BFF",
        "colab_type": "code",
        "outputId": "5dcbb0e9-aa67-4f64-fae3-c944ef6bdb38",
        "colab": {
          "base_uri": "https://localhost:8080/",
          "height": 140
        }
      },
      "source": [
        "import cv2\n",
        "from matplotlib import pyplot as plt\n",
        "image = cv2.imread('drive/My Drive/FYP/Automated cheque processing/dataset/amount/Cheque 100834.tif')\n",
        "gray  = cv2.cvtColor(image,cv2.COLOR_BGR2GRAY)\n",
        "###saltpep = cv2.fastNlMeansDenoising(gray,None,9,13)\n",
        "#sobelx = cv2.Sobel(gray,cv2.CV_64F,1,0,ksize=5)\n",
        "th2 = cv2.adaptiveThreshold(gray,255, cv2.ADAPTIVE_THRESH_MEAN_C,cv2.THRESH_BINARY,15,-2)\n",
        "from cv2 import erode\n",
        "import numpy as np    \n",
        "#kernel = np.ones((2,1),dtype=np.uint8) # this must be tuned \n",
        "\n",
        "#im1=erode(gray,kernel)\n",
        "\n",
        "#blurred = cv2.GaussianBlur(gray, (5, 5), 0)\n",
        "#thresh = cv2.threshold(gray, 60, 255, cv2.THRESH_BINARY)[1]\n",
        "kernel = cv2.getStructuringElement(cv2.MORPH_ELLIPSE, (1,2))\n",
        "morph_img = cv2.erode(gray,kernel,iterations=2)\n",
        "kernel = cv2.getStructuringElement(cv2.MORPH_ELLIPSE, (2,3))\n",
        "morph_img = cv2.dilate(morph_img,kernel,iterations = 1)\n",
        "#sobelx = cv2.Sobel(morph_img,cv2.CV_64F,1,0,ksize=5)\n",
        "#saltpep = cv2.fastNlMeansDenoising(morph_img,None,9,13)\n",
        "#tophat = cv2.morphologyEx(gray, cv2.MORPH_TOPHAT, kernel)\n",
        "\n",
        "\n",
        "#edged = cv2.Canny(gray,50,100)\n",
        "#edged = cv2.dilate(edged,None,iterations = 1)\n",
        "#edged = cv2.erode(edged,None,iterations = 1)\n",
        "plt.imshow(morph_img)\n",
        "plt.show()\n",
        "\n",
        "\n"
      ],
      "execution_count": 0,
      "outputs": [
        {
          "output_type": "display_data",
          "data": {
            "image/png": "[encoded data removed]",
            "text/plain": [
              "<Figure size 576x396 with 1 Axes>"
            ]
          },
          "metadata": {
            "tags": []
          }
        }
      ]
    },
    {
      "cell_type": "code",
      "metadata": {
        "id": "_6zJmHz5XAuT",
        "colab_type": "code",
        "outputId": "87953cd8-04c8-4781-9a3e-1fe8bfda7984",
        "colab": {
          "base_uri": "https://localhost:8080/",
          "height": 153
        }
      },
      "source": [
        "cv2.getStructuringElement(cv2.MORPH_RECT,(4,8))"
      ],
      "execution_count": 0,
      "outputs": [
        {
          "output_type": "execute_result",
          "data": {
            "text/plain": [
              "array([[1, 1, 1, 1],\n",
              "       [1, 1, 1, 1],\n",
              "       [1, 1, 1, 1],\n",
              "       [1, 1, 1, 1],\n",
              "       [1, 1, 1, 1],\n",
              "       [1, 1, 1, 1],\n",
              "       [1, 1, 1, 1],\n",
              "       [1, 1, 1, 1]], dtype=uint8)"
            ]
          },
          "metadata": {
            "tags": []
          },
          "execution_count": 101
        }
      ]
    },
    {
      "cell_type": "code",
      "metadata": {
        "id": "e9M24UHh6EF1",
        "colab_type": "code",
        "colab": {}
      },
      "source": [
        "import imutils\n",
        "cnts = cv2.findContours(morph_img.copy(), cv2.RETR_EXTERNAL,\n",
        "\tcv2.CHAIN_APPROX_NONE)\n",
        "cnts = imutils.grab_contours(cnts)\n",
        "#c = sorted(cnts, key = cv2.contourArea, reverse = True)[:]\n",
        "\n"
      ],
      "execution_count": 0,
      "outputs": []
    },
    {
      "cell_type": "code",
      "metadata": {
        "id": "vG5CxSaW63rK",
        "colab_type": "code",
        "outputId": "67870a7a-94a6-478f-9a4b-ae700f33507d",
        "colab": {
          "base_uri": "https://localhost:8080/",
          "height": 140
        }
      },
      "source": [
        "import math\n",
        "hyphen_cnts=[] \n",
        "slash_cnts = []\n",
        "maxi = -1\n",
        "right= -1\n",
        "for i,c in enumerate(cnts):\n",
        "  extLeft = tuple(c[c[:, :, 0].argmin()][0])\n",
        "  extRight = tuple(c[c[:, :, 0].argmax()][0])\n",
        "  extTop = tuple(c[c[:, :, 1].argmin()][0])\n",
        "  extBot = tuple(c[c[:, :, 1].argmax()][0])\n",
        "#   cv2.drawContours(image, [c], -1, (0, 255, 255), 2)\n",
        "#   cv2.circle(image, extLeft, 1, (0, 0, 255), -1)\n",
        "#   cv2.circle(image, extRight, 1, (0, 255, 0), -1)\n",
        "#   cv2.circle(image, extTop, 1, (255, 0, 0), -1)\n",
        "#   cv2.circle(image, extBot, 1, (255, 255, 0), -1)\n",
        "  dist =  abs((extTop[1]-extBot[1]))\n",
        "  if(dist>maxi):\n",
        "    hyphen_cnts = c\n",
        "    maxi = dist\n",
        "  if(extRight[0]>right) and abs(extRight[0]-extLeft[0])>5:\n",
        "    slash_cnts = c\n",
        "    right = extRight[0]\n",
        "  #print(\"extLeft \",extLeft,\" extright \",extRight,\"extTop\",extTop,\" extBot \",extBot)\n",
        "plt.imshow(image)\n",
        "plt.show()"
      ],
      "execution_count": 0,
      "outputs": [
        {
          "output_type": "display_data",
          "data": {
            "image/png": "[encoded data removed]",
            "text/plain": [
              "<Figure size 576x396 with 1 Axes>"
            ]
          },
          "metadata": {
            "tags": []
          }
        }
      ]
    },
    {
      "cell_type": "code",
      "metadata": {
        "id": "zdbl9vC88bOx",
        "colab_type": "code",
        "outputId": "4bec4e39-2d61-4f88-8519-905d69a5b667",
        "colab": {
          "base_uri": "https://localhost:8080/",
          "height": 140
        }
      },
      "source": [
        "import numpy as np\n",
        "from matplotlib import pyplot as plt\n",
        "\n",
        "mask = np.ones(image.shape[:2], dtype=\"uint8\") * 255\n",
        "cv2.drawContours(mask,[hyphen_cnts],-1,0,-1)\n",
        "cv2.drawContours(mask,[slash_cnts],-1,0,-1)\n",
        "plt.imshow(mask)\n",
        "plt.show()"
      ],
      "execution_count": 0,
      "outputs": [
        {
          "output_type": "display_data",
          "data": {
            "image/png": "[encoded data removed]",
            "text/plain": [
              "<Figure size 576x396 with 1 Axes>"
            ]
          },
          "metadata": {
            "tags": []
          }
        }
      ]
    },
    {
      "cell_type": "code",
      "metadata": {
        "id": "fBOqaMtblBa9",
        "colab_type": "code",
        "outputId": "5cad33c2-eadc-498a-af1c-ebd553de95dc",
        "colab": {
          "base_uri": "https://localhost:8080/",
          "height": 140
        }
      },
      "source": [
        "image1 = cv2.bitwise_and(morph_img, morph_img, mask=mask)\n",
        "plt.imshow(image1)\n",
        "plt.show()"
      ],
      "execution_count": 0,
      "outputs": [
        {
          "output_type": "display_data",
          "data": {
            "image/png": "[encoded data removed]",
            "text/plain": [
              "<Figure size 576x396 with 1 Axes>"
            ]
          },
          "metadata": {
            "tags": []
          }
        }
      ]
    },
    {
      "cell_type": "code",
      "metadata": {
        "id": "CLtsT2M4Y2Dk",
        "colab_type": "code",
        "outputId": "5857f55d-b29d-46a7-cdea-303e962fcb5a",
        "colab": {
          "base_uri": "https://localhost:8080/",
          "height": 140
        }
      },
      "source": [
        "kernel = cv2.getStructuringElement(cv2.MORPH_ELLIPSE, (1,2))\n",
        "morph_img2 = cv2.erode(image1,kernel,iterations=3)\n",
        "kernel = cv2.getStructuringElement(cv2.MORPH_ELLIPSE, (2,3))\n",
        "morph_img2 = cv2.dilate(morph_img2,kernel,iterations = 2)\n",
        "plt.imshow(morph_img2)\n",
        "plt.show()"
      ],
      "execution_count": 0,
      "outputs": [
        {
          "output_type": "display_data",
          "data": {
            "image/png": "[encoded data removed]",
            "text/plain": [
              "<Figure size 576x396 with 1 Axes>"
            ]
          },
          "metadata": {
            "tags": []
          }
        }
      ]
    },
    {
      "cell_type": "code",
      "metadata": {
        "id": "JnnRpxoGaUYQ",
        "colab_type": "code",
        "outputId": "4d52f1cb-8b85-4be9-bf1a-8a49cc21e121",
        "colab": {
          "base_uri": "https://localhost:8080/",
          "height": 34
        }
      },
      "source": [
        "extLeft = tuple(slash_cnts[slash_cnts[:, :, 0].argmin()][0])\n",
        "extRight = tuple(slash_cnts[slash_cnts[:, :, 0].argmax()][0])\n",
        "extTop = tuple(slash_cnts[slash_cnts[:, :, 1].argmin()][0])\n",
        "extBot = tuple(slash_cnts[slash_cnts[:, :, 1].argmax()][0])\n",
        "print(extLeft[0]-extRight[0])"
      ],
      "execution_count": 0,
      "outputs": [
        {
          "output_type": "stream",
          "text": [
            "-8\n"
          ],
          "name": "stdout"
        }
      ]
    },
    {
      "cell_type": "code",
      "metadata": {
        "id": "Nd9BC7oiBzNa",
        "colab_type": "code",
        "outputId": "dde540e5-01cc-4338-e21e-3a98f31b6569",
        "colab": {
          "base_uri": "https://localhost:8080/",
          "height": 263
        }
      },
      "source": [
        "\n",
        "cnts = cv2.findContours(morph_img2.copy(), cv2.RETR_EXTERNAL,\n",
        "\tcv2.CHAIN_APPROX_NONE)\n",
        "cnts = imutils.grab_contours(cnts)\n",
        "plt.imshow(image)\n",
        "plt.show()\n",
        "for (i,c) in enumerate(cnts) :\n",
        "#   x,y,w,h = cv2.boundingRect(c)\n",
        "#   box = cv2.rectangle(image,(x,y),(x+w,y+h),(0,255,0),2)\n",
        "  box = cv2.minAreaRect(c)\n",
        "  box = cv2.boxPoints(box)\n",
        "  box = np.array(box,dtype = 'int')\n",
        "  cv2.drawContours(image,[c],-1,(0,255,0),1)\n",
        "  #print(\"Object #{}:\".format(i + 1))\n",
        "  #print(box)\n",
        "plt.imshow(image)\n",
        "plt.show()"
      ],
      "execution_count": 0,
      "outputs": [
        {
          "output_type": "display_data",
          "data": {
            "image/png": "[encoded data removed]",
            "text/plain": [
              "<Figure size 576x396 with 1 Axes>"
            ]
          },
          "metadata": {
            "tags": []
          }
        },
        {
          "output_type": "display_data",
          "data": {
            "image/png": "[encoded data removed]",
            "text/plain": [
              "<Figure size 576x396 with 1 Axes>"
            ]
          },
          "metadata": {
            "tags": []
          }
        }
      ]
    },
    {
      "cell_type": "code",
      "metadata": {
        "id": "2oAhaVuuiRIc",
        "colab_type": "code",
        "outputId": "be4eb1b4-c646-4666-9572-85212e492750",
        "colab": {
          "base_uri": "https://localhost:8080/",
          "height": 1293
        }
      },
      "source": [
        "print(slash_cnts)\n",
        "epsilon = 0.01*cv2.arcLength(hyphen_cnts,True)\n",
        "approx = cv2.approxPolyDP(hyphen_cnts,epsilon,False)\n",
        "print(approx)\n",
        "cv2.drawContours(image,[approx],-1,(0,255,0),1)\n",
        "plt.imshow(image)\n",
        "plt.show()\n"
      ],
      "execution_count": 0,
      "outputs": [
        {
          "output_type": "stream",
          "text": [
            "[[[200  27]]\n",
            "\n",
            " [[199  28]]\n",
            "\n",
            " [[194  28]]\n",
            "\n",
            " [[193  29]]\n",
            "\n",
            " [[192  29]]\n",
            "\n",
            " [[190  31]]\n",
            "\n",
            " [[190  34]]\n",
            "\n",
            " [[191  34]]\n",
            "\n",
            " [[195  30]]\n",
            "\n",
            " [[197  30]]\n",
            "\n",
            " [[198  29]]\n",
            "\n",
            " [[200  29]]\n",
            "\n",
            " [[201  28]]\n",
            "\n",
            " [[203  28]]\n",
            "\n",
            " [[204  27]]]\n",
            "[[[164  15]]\n",
            "\n",
            " [[157  22]]\n",
            "\n",
            " [[154  18]]\n",
            "\n",
            " [[150  21]]\n",
            "\n",
            " [[146  18]]\n",
            "\n",
            " [[139  19]]\n",
            "\n",
            " [[132  16]]\n",
            "\n",
            " [[128  29]]\n",
            "\n",
            " [[131  36]]\n",
            "\n",
            " [[138  31]]\n",
            "\n",
            " [[139  21]]\n",
            "\n",
            " [[147  22]]\n",
            "\n",
            " [[149  35]]\n",
            "\n",
            " [[157  24]]\n",
            "\n",
            " [[160  25]]\n",
            "\n",
            " [[162  34]]\n",
            "\n",
            " [[167  33]]\n",
            "\n",
            " [[171  26]]\n",
            "\n",
            " [[171  21]]\n",
            "\n",
            " [[167  15]]]\n"
          ],
          "name": "stdout"
        },
        {
          "output_type": "display_data",
          "data": {
            "image/png": "[encoded data removed]",
            "text/plain": [
              "<Figure size 576x396 with 1 Axes>"
            ]
          },
          "metadata": {
            "tags": []
          }
        }
      ]
    }
  ]
}